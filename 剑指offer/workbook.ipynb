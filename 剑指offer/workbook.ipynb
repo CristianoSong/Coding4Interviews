{
 "cells": [
  {
   "cell_type": "code",
   "execution_count": 24,
   "source": [
    "### JZ1\r\n",
    "def Find(target, array):\r\n",
    "    if target in array:\r\n",
    "        return True\r\n",
    "    else:\r\n",
    "        return False"
   ],
   "outputs": [],
   "metadata": {}
  },
  {
   "cell_type": "code",
   "execution_count": 25,
   "source": [
    "X = [\r\n",
    "[1,2,8,9],\r\n",
    "[2,4,7,12],\r\n",
    "[4,7,19,13],\r\n",
    "[6,8,11,15]\r\n",
    "]"
   ],
   "outputs": [],
   "metadata": {}
  },
  {
   "cell_type": "code",
   "execution_count": 23,
   "source": [
    "Find(7, X)"
   ],
   "outputs": [
    {
     "output_type": "execute_result",
     "data": {
      "text/plain": [
       "False"
      ]
     },
     "metadata": {},
     "execution_count": 23
    }
   ],
   "metadata": {}
  },
  {
   "cell_type": "code",
   "execution_count": 39,
   "source": [
    "### JZ2\r\n",
    "def replaceSpace(s):\r\n",
    "    # create a new empty str, loop the input string\r\n",
    "    # if blank -> new string add \"%20\"\r\n",
    "    # if not black -> keep the str\r\n",
    "    gen = \"\"\r\n",
    "    # gen = str()\r\n",
    "    for i in s:\r\n",
    "        if i == \" \":\r\n",
    "            gen += \"%20\"\r\n",
    "        else:\r\n",
    "            gen += i\r\n",
    "    return gen"
   ],
   "outputs": [],
   "metadata": {}
  },
  {
   "cell_type": "code",
   "execution_count": 40,
   "source": [
    "print(replaceSpace(\"We Are Happy\"))"
   ],
   "outputs": [
    {
     "output_type": "stream",
     "name": "stdout",
     "text": [
      "We%20Are%20Happy\n"
     ]
    }
   ],
   "metadata": {}
  },
  {
   "cell_type": "code",
   "execution_count": 59,
   "source": [
    "### JZ3\r\n",
    "class ListNode(object):\r\n",
    "    def __init__(self, x):\r\n",
    "        self.val = x\r\n",
    "        self.next = None\r\n",
    "\r\n",
    "# def printListFromTailToHead(listNode):\r\n",
    "    \r\n"
   ],
   "outputs": [],
   "metadata": {}
  },
  {
   "cell_type": "code",
   "execution_count": 77,
   "source": [
    "listNode = ListNode([1,2,3])"
   ],
   "outputs": [],
   "metadata": {}
  },
  {
   "cell_type": "code",
   "execution_count": 78,
   "source": [
    "res = []\r\n",
    "while listNode:\r\n",
    "    res.append(listNode.val)\r\n",
    "    listNode = listNode.next\r\n",
    "print(res[::-1])"
   ],
   "outputs": [
    {
     "output_type": "stream",
     "name": "stdout",
     "text": [
      "[[1, 2, 3]]\n"
     ]
    }
   ],
   "metadata": {}
  },
  {
   "cell_type": "code",
   "execution_count": 81,
   "source": [
    "forw = [1, 2, 3]\r\n",
    "revs = forw[::-1]\r\n",
    "print(revs)"
   ],
   "outputs": [
    {
     "output_type": "stream",
     "name": "stdout",
     "text": [
      "[3, 2, 1]\n"
     ]
    }
   ],
   "metadata": {}
  },
  {
   "cell_type": "code",
   "execution_count": null,
   "source": [],
   "outputs": [],
   "metadata": {}
  }
 ],
 "metadata": {
  "orig_nbformat": 4,
  "language_info": {
   "name": "python",
   "version": "3.8.8",
   "mimetype": "text/x-python",
   "codemirror_mode": {
    "name": "ipython",
    "version": 3
   },
   "pygments_lexer": "ipython3",
   "nbconvert_exporter": "python",
   "file_extension": ".py"
  },
  "kernelspec": {
   "name": "python3",
   "display_name": "Python 3.8.8 64-bit ('datasci': conda)"
  },
  "interpreter": {
   "hash": "23d8489b17aa989cee42bd3f3e82cc035b4cfa42fa1ea343caf5051171f57614"
  }
 },
 "nbformat": 4,
 "nbformat_minor": 2
}